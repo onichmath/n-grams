{
 "cells": [
  {
   "cell_type": "code",
   "execution_count": 1,
   "id": "f166743a-1a99-43f8-8501-676d1f484f74",
   "metadata": {},
   "outputs": [],
   "source": [
    "import numpy as np \n",
    "from collections import defaultdict\n",
    "import tabulate as tab\n",
    "import matplotlib.pyplot as plt"
   ]
  },
  {
   "cell_type": "code",
   "execution_count": 2,
   "id": "12eba47e-fa8f-4027-a27a-b631527bc29c",
   "metadata": {},
   "outputs": [
    {
     "name": "stdout",
     "output_type": "stream",
     "text": [
      "<unk> sold\n"
     ]
    }
   ],
   "source": [
    "vocab = dict()\n",
    "with open ('hw4_vocab.txt','r') as f:\n",
    "    for i, line in enumerate(f):\n",
    "        vocab[i+1] = line.strip().lower()\n",
    "\n",
    "print(vocab[1], vocab[500])"
   ]
  },
  {
   "cell_type": "code",
   "execution_count": 3,
   "id": "9b1878e4-779e-4104-9587-1e76259a69cb",
   "metadata": {},
   "outputs": [],
   "source": [
    "lookup_table = {v: k for k, v in vocab.items()}"
   ]
  },
  {
   "cell_type": "code",
   "execution_count": 4,
   "id": "9c87b9e5-0a6a-4eff-9080-88d27249afa7",
   "metadata": {},
   "outputs": [],
   "source": [
    "unigrams = dict() \n",
    "with open ('hw4_unigram.txt','r') as f:\n",
    "    for i, line in enumerate(f):\n",
    "        prob = int(line.strip()) \n",
    "        unigrams[i+1] = prob"
   ]
  },
  {
   "cell_type": "code",
   "execution_count": 5,
   "id": "15343e17-9da7-41ae-91f4-1b3646e8f068",
   "metadata": {},
   "outputs": [],
   "source": [
    "bigrams = defaultdict(dict)\n",
    "with open ('hw4_bigram.txt','r') as f:\n",
    "    for line in f:\n",
    "        i,i2, prob = map(int, line.strip().split())\n",
    "        bigrams[i][i2] = prob"
   ]
  },
  {
   "cell_type": "markdown",
   "id": "7625fd4e-0d49-4ef9-8d21-2ece23a35330",
   "metadata": {},
   "source": [
    "#### Part A:\n",
    "Compute the maximum likelihood estimate of the unigram distribution Pu (w) over words w. Print out\n",
    "a table of all the tokens (i.e., words) that start with the letter “M”, along with their numerical unigram\n",
    "probabilities (not counts).\n",
    "\n",
    "$P_{u}(w) = \\frac{count(w)}{N}$"
   ]
  },
  {
   "cell_type": "code",
   "execution_count": 6,
   "id": "7015a5f8-a52a-43b2-af2e-b7e5be743a34",
   "metadata": {},
   "outputs": [],
   "source": [
    "unigram_sum = sum(unigrams.values())\n",
    "mle_unigram = {i: prob/unigram_sum for i, prob in unigrams.items()}"
   ]
  },
  {
   "cell_type": "code",
   "execution_count": 7,
   "id": "d94f4988-4bce-4668-adbd-dad721d2d8ae",
   "metadata": {},
   "outputs": [
    {
     "name": "stdout",
     "output_type": "stream",
     "text": [
      "| Word     |   Probability |\n",
      "|:---------|--------------:|\n",
      "| million  |   0.00207276  |\n",
      "| more     |   0.0017089   |\n",
      "| mr.      |   0.00144161  |\n",
      "| most     |   0.000787917 |\n",
      "| market   |   0.000780371 |\n",
      "| may      |   0.000729897 |\n",
      "| m.       |   0.000703407 |\n",
      "| many     |   0.000696729 |\n",
      "| made     |   0.000559861 |\n",
      "| much     |   0.000514597 |\n",
      "| make     |   0.000514463 |\n",
      "| month    |   0.00044491  |\n",
      "| money    |   0.000437107 |\n",
      "| months   |   0.000405761 |\n",
      "| my       |   0.000400318 |\n",
      "| monday   |   0.000381985 |\n",
      "| major    |   0.000370893 |\n",
      "| military |   0.000352046 |\n",
      "| members  |   0.000336061 |\n",
      "| might    |   0.000273589 |\n",
      "| meeting  |   0.000265737 |\n",
      "| must     |   0.000266508 |\n",
      "| me       |   0.000263573 |\n",
      "| march    |   0.000259794 |\n",
      "| man      |   0.000252883 |\n",
      "| ms.      |   0.00023899  |\n",
      "| minister |   0.000239773 |\n",
      "| making   |   0.000211704 |\n",
      "| move     |   0.000209956 |\n",
      "| miles    |   0.000205969 |\n"
     ]
    }
   ],
   "source": [
    "mle_unigram_m = [(vocab[i], prob) for i, prob in mle_unigram.items() if vocab[i].startswith('m')]\n",
    "print(tab.tabulate(mle_unigram_m, headers=[\"Word\",\"Probability\"], tablefmt='pipe'))"
   ]
  },
  {
   "cell_type": "markdown",
   "id": "f151766b-2596-4d47-820f-8218dc17593c",
   "metadata": {},
   "source": [
    "#### Part B:\n",
    "Compute the maximum likelihood estimate of the bigram distribution Pb(w ′ |w). Print out a table of\n",
    "the ten most likely words to follow the word “THE”, along with their numerical bigram probabilities."
   ]
  },
  {
   "cell_type": "code",
   "execution_count": 8,
   "id": "79fc528f-5f92-4997-9598-5a188fa3db72",
   "metadata": {},
   "outputs": [],
   "source": [
    "mle_bigram = defaultdict(dict)\n",
    "for i in bigrams:\n",
    "    for i2 in bigrams[i]:\n",
    "        mle_bigram[i][i2] = bigrams[i][i2]/unigrams[i] "
   ]
  },
  {
   "cell_type": "code",
   "execution_count": 9,
   "id": "c8b483f8-5eeb-4f8e-9539-11795b05cb1c",
   "metadata": {},
   "outputs": [
    {
     "name": "stdout",
     "output_type": "stream",
     "text": [
      "| Word   | Following Word   |   Probability |\n",
      "|:-------|:-----------------|--------------:|\n",
      "| the    | <unk>            |    0.61502    |\n",
      "| the    | u.               |    0.0133725  |\n",
      "| the    | first            |    0.0117203  |\n",
      "| the    | company          |    0.0116588  |\n",
      "| the    | new              |    0.00945148 |\n",
      "| the    | united           |    0.00867231 |\n",
      "| the    | government       |    0.00680349 |\n",
      "| the    | nineteen         |    0.00665071 |\n",
      "| the    | same             |    0.00628707 |\n",
      "| the    | two              |    0.00616075 |\n"
     ]
    }
   ],
   "source": [
    "the_index = [i for i in vocab if vocab[i] == 'the'][0]\n",
    "sorted_best_the_bigrams = dict(sorted(mle_bigram[the_index].items(), key=lambda x: x[1], reverse=True)[:10])\n",
    "the_bigrams = [(vocab[4], vocab[i], prob) for i, prob in sorted_best_the_bigrams.items()]\n",
    "print(tab.tabulate(the_bigrams, headers=[\"Word\",\"Following Word\",\"Probability\"], tablefmt='pipe'))"
   ]
  },
  {
   "cell_type": "markdown",
   "id": "8c411c74-27dc-42d6-9868-90b71653d1f5",
   "metadata": {},
   "source": [
    "#### Part C\n",
    "Consider the sentence “The stock market fell by one hundred points last week.” Ignoring punctuation, compute and compare the log-likelihoods of this sentence under the unigram and bigram models."
   ]
  },
  {
   "cell_type": "code",
   "execution_count": 10,
   "id": "6548c8e1-b898-4f65-a40e-b8b100a6d07f",
   "metadata": {},
   "outputs": [
    {
     "name": "stdout",
     "output_type": "stream",
     "text": [
      "479427\n",
      "['the', 'stock', 'market', 'fell', 'by', 'one', 'hundred', 'points', 'last', 'week']\n"
     ]
    }
   ],
   "source": [
    "print(bigrams[2][4])\n",
    "sentence = str(\"The stock market fell by one hundred points last week\").lower().split()\n",
    "print(sentence)"
   ]
  },
  {
   "cell_type": "code",
   "execution_count": 11,
   "id": "63a383f7-0f95-4f40-b009-ee63acdb7060",
   "metadata": {},
   "outputs": [],
   "source": [
    "def get_unigram_log_likelihood(sentence, mle_unigram, lookup_table):\n",
    "    unigram_log_likelihood = 0.0\n",
    "    for token in sentence:\n",
    "        token_index = lookup_table[token]\n",
    "        unigram_log_likelihood += np.log(mle_unigram[token_index])\n",
    "    return unigram_log_likelihood"
   ]
  },
  {
   "cell_type": "code",
   "execution_count": 12,
   "id": "d5c98d5f-e1e2-4e08-bba1-789505ce81ad",
   "metadata": {},
   "outputs": [
    {
     "name": "stdout",
     "output_type": "stream",
     "text": [
      "-64.50944034364878\n"
     ]
    }
   ],
   "source": [
    "unigram_log_likelihood = get_unigram_log_likelihood(sentence, mle_unigram, lookup_table)\n",
    "print(unigram_log_likelihood)"
   ]
  },
  {
   "cell_type": "code",
   "execution_count": 13,
   "id": "61842608-39ce-4665-b533-b7a211b7c36e",
   "metadata": {},
   "outputs": [],
   "source": [
    "def get_bigram_log_likelihood(sentence, mle_bigram, lookup_table):\n",
    "    bigram_log_likelihood = 0.0\n",
    "    unk_bigram_log_likelihood = 0.0\n",
    "    unk_index = lookup_table['<unk>']\n",
    "    unobserved_bigrams = []\n",
    "    for i in range(len(sentence)):\n",
    "        token = lookup_table[sentence[i]]\n",
    "        if i == 0:\n",
    "            prev_token = lookup_table[\"<s>\"]\n",
    "        else:\n",
    "            prev_token = lookup_table[sentence[i-1]] \n",
    "        if not mle_bigram[prev_token].get(token):\n",
    "            unobserved_bigrams.append((vocab[prev_token], vocab[token]))\n",
    "            bigram_log_likelihood += -np.inf # equivalent to np.log(0)\n",
    "            unk_bigram_log_likelihood += np.log(mle_bigram[prev_token][unk_index])\n",
    "            continue\n",
    "        bigram_log_likelihood += np.log(mle_bigram[prev_token][token])\n",
    "        unk_bigram_log_likelihood += np.log(mle_bigram[prev_token][token])\n",
    "    return bigram_log_likelihood, unk_bigram_log_likelihood, unobserved_bigrams"
   ]
  },
  {
   "cell_type": "code",
   "execution_count": 14,
   "id": "622390b6-33b2-4c5d-89d0-f0cac309c083",
   "metadata": {},
   "outputs": [
    {
     "name": "stdout",
     "output_type": "stream",
     "text": [
      "-40.91813213378977\n"
     ]
    }
   ],
   "source": [
    "bigram_log_likelihood, unk_bigram_log_likelihood, unobserved_bigrams = \\\n",
    "get_bigram_log_likelihood(sentence, mle_bigram, lookup_table)\n",
    "print(bigram_log_likelihood)"
   ]
  },
  {
   "cell_type": "markdown",
   "id": "4ce9a145-06c9-4284-9e86-7966d916c6d3",
   "metadata": {},
   "source": [
    "#### Part D \n",
    "Consider the sentence “The sixteen officials sold fire insurance.” Ignoring punctuation, compute\n",
    "and compare the log-likelihoods of this sentence under the unigram and bigram models:\n",
    "\n",
    "Which pairs of adjacent words in this sentence are not observed in the training corpus? What effect\n",
    "does this have on the log-likelihood from the bigram model?"
   ]
  },
  {
   "cell_type": "code",
   "execution_count": 15,
   "id": "72a555db-c6e3-499f-a361-66c220feac4d",
   "metadata": {},
   "outputs": [
    {
     "name": "stdout",
     "output_type": "stream",
     "text": [
      "['the', 'sixteen', 'officials', 'sold', 'fire', 'insurance']\n"
     ]
    }
   ],
   "source": [
    "sentence = str(\"The sixteen officials sold fire insurance\").lower().split()\n",
    "print(sentence)"
   ]
  },
  {
   "cell_type": "code",
   "execution_count": 16,
   "id": "94d5b702-282c-4cf1-854f-4242424f9903",
   "metadata": {},
   "outputs": [
    {
     "name": "stdout",
     "output_type": "stream",
     "text": [
      "-44.291934473132606\n"
     ]
    }
   ],
   "source": [
    "unigram_log_likelihood = get_unigram_log_likelihood(sentence, mle_unigram, lookup_table)\n",
    "print(unigram_log_likelihood)"
   ]
  },
  {
   "cell_type": "code",
   "execution_count": 17,
   "id": "7b15037e-6952-4c8b-9742-74cea733b237",
   "metadata": {},
   "outputs": [
    {
     "name": "stdout",
     "output_type": "stream",
     "text": [
      "-29.451555229472003\n",
      "-inf\n",
      "[('sixteen', 'officials'), ('sold', 'fire')]\n"
     ]
    }
   ],
   "source": [
    "bigram_log_likelihood, unk_bigram_log_likelihood, unobserved_bigrams = \\\n",
    "get_bigram_log_likelihood(sentence, mle_bigram, lookup_table)\n",
    "\n",
    "print(unk_bigram_log_likelihood)\n",
    "print(bigram_log_likelihood)\n",
    "print(unobserved_bigrams)"
   ]
  },
  {
   "cell_type": "markdown",
   "id": "a673d42a-28cc-4c06-b47c-c8eb7e4c09ab",
   "metadata": {},
   "source": [
    "#### Part E \n",
    "Consider the so-called mixture model that predicts words from a weighted interpolation of the unigram\n",
    "and bigram models:\n",
    "\n",
    "$P_m(w'|w)= \\lambda P_u(w') + (1-\\lambda)P_b(w'|w)$\n",
    "\n",
    "where λ ∈ [0, 1] determines how much weight is attached to each prediction. Compute and plot the value of this log-likelihood Lm as a function of the parameter λ ∈ [0, 1]. From your results, deduce the optimal value of λ to two significant digits."
   ]
  },
  {
   "cell_type": "code",
   "execution_count": 18,
   "id": "f7491404-1be3-40f5-ac7e-aac41b6e62d6",
   "metadata": {},
   "outputs": [
    {
     "name": "stdout",
     "output_type": "stream",
     "text": [
      "['the', 'sixteen', 'officials', 'sold', 'fire', 'insurance']\n"
     ]
    }
   ],
   "source": [
    "print(sentence)"
   ]
  },
  {
   "cell_type": "code",
   "execution_count": 19,
   "id": "03a19bb4-0d95-47ea-976d-70c9c7938fdb",
   "metadata": {},
   "outputs": [],
   "source": [
    "def mixture_model_log_likelihood(sentence, mle_unigram, mle_bigram, lookup_table, lambda_):\n",
    "    mixture_log_likelihood = 0.0\n",
    "    for i in range(len(sentence)):\n",
    "        token = lookup_table[sentence[i]]\n",
    "        if i == 0:\n",
    "            prev_token = lookup_table[\"<s>\"]\n",
    "        else:\n",
    "            prev_token = lookup_table[sentence[i-1]] \n",
    "        if not mle_bigram[prev_token].get(token):\n",
    "            mix = np.log((lambda_ * mle_unigram[token]) + 0)\n",
    "        else:\n",
    "            mix = np.log((lambda_ * mle_unigram[token]) + ((1-lambda_) * mle_bigram[prev_token][token]))\n",
    "        mixture_log_likelihood += mix\n",
    "    return mixture_log_likelihood"
   ]
  },
  {
   "cell_type": "code",
   "execution_count": 20,
   "id": "cd08c75e-39ba-4f55-abd5-b983211d5a6a",
   "metadata": {},
   "outputs": [
    {
     "name": "stdout",
     "output_type": "stream",
     "text": [
      "Optimal lambda: 0.65\n"
     ]
    },
    {
     "data": {
      "image/png": "[encoded data removed]",
      "text/plain": [
       "<Figure size 1000x600 with 1 Axes>"
      ]
     },
     "metadata": {},
     "output_type": "display_data"
    }
   ],
   "source": [
    "plt.figure(figsize=(10,6))\n",
    "lambdas = np.linspace(0.001,1,100)\n",
    "mixture_log_likelihoods = [mixture_model_log_likelihood(sentence, mle_unigram, mle_bigram, lookup_table, l) for l in lambdas]\n",
    "max_lambda = lambdas[np.argmax(mixture_log_likelihoods)]\n",
    "print(f\"Optimal lambda: {max_lambda:.2f}\")\n",
    "\n",
    "plt.plot(lambdas, mixture_log_likelihoods)\n",
    "plt.xlabel('Lambda')\n",
    "plt.ylabel('Log-likelihood')\n",
    "plt.title('Mixture Model Log-likelihood')\n",
    "plt.show()"
   ]
  }
 ],
 "metadata": {
  "kernelspec": {
   "display_name": "Python 3 (ipykernel)",
   "language": "python",
   "name": "python3"
  },
  "language_info": {
   "codemirror_mode": {
    "name": "ipython",
    "version": 3
   },
   "file_extension": ".py",
   "mimetype": "text/x-python",
   "name": "python",
   "nbconvert_exporter": "python",
   "pygments_lexer": "ipython3",
   "version": "3.12.6"
  }
 },
 "nbformat": 4,
 "nbformat_minor": 5
}
